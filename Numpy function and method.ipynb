{
 "cells": [
  {
   "cell_type": "code",
   "execution_count": 1,
   "metadata": {},
   "outputs": [],
   "source": [
    "import numpy as np\n",
    "\n",
    "# 生成一个备用的数组arr\n",
    "arr = np.random.randn(3,4)"
   ]
  },
  {
   "cell_type": "code",
   "execution_count": 3,
   "metadata": {},
   "outputs": [
    {
     "name": "stdout",
     "output_type": "stream",
     "text": [
      "[[       nan 0.79845964        nan        nan]\n",
      " [0.82867413 0.58398554 1.21114467        nan]\n",
      " [0.71747694        nan        nan        nan]] [[0.27725969 1.89181709 0.53733047 0.16590487]\n",
      " [1.98714873 1.40640824 4.33564947 0.28987777]\n",
      " [1.67325891 0.89448507 0.55512371 0.48080685]]\n"
     ]
    }
   ],
   "source": [
    "# 通用函数（universal function）是ndarray数组中进行逐元素操作的函数\n",
    "# 简单函数通过接收一个或多个标量从而产生一个或多个标量的结果，通用函数\n",
    "# 是对简单函数的向量化封装，其实很多通用函数就是用来进行运算操作，例如\n",
    "# 前面的加减乘除运算（只不过定义成了函数）\n",
    "# 例如sqrt()和exp()函数\n",
    "arr_sqrt = np.sqrt(arr)\n",
    "# sqrt()的定义域是非负的， 所以如果存在负数，则生成的结果为nan值\n",
    "arr_exp = np.exp(arr)\n",
    "print(arr_sqrt, arr_exp)"
   ]
  },
  {
   "cell_type": "code",
   "execution_count": 5,
   "metadata": {},
   "outputs": [
    {
     "name": "stdout",
     "output_type": "stream",
     "text": [
      "[[-1.2908959   0.39708599 -0.4597109  -2.55241491]\n",
      " [ 0.67860561  0.1005873   1.6283025  -1.99437011]\n",
      " [ 0.50667797 -0.35195888 -0.42713321 -1.48836384]]\n"
     ]
    }
   ],
   "source": [
    "# 将类似sqrt,exp归为一元通用函数，那么二元通用函数就是基于两个操作数组\n",
    "# 的函数，类似加法\n",
    "arr_another = np.random.randn(1,4)\n",
    "arr_add = np.add(arr, arr_another)\n",
    "print(arr_add)  \n",
    "# arr_another和arr两个数组必须符合广播的条件则可以进行运算\n",
    "# 如果不满足广播的条件，则会抛出ValueError异常"
   ]
  },
  {
   "cell_type": "code",
   "execution_count": 7,
   "metadata": {},
   "outputs": [
    {
     "name": "stdout",
     "output_type": "stream",
     "text": [
      "[[-0.0080952   0.63753779  0.16143108 -0.75607419]\n",
      " [ 0.68670081  0.34103911  1.46687142 -0.75607419]\n",
      " [ 0.51477317 -0.11150707  0.16143108 -0.73228965]]\n"
     ]
    }
   ],
   "source": [
    "# maximum(x, y)函数是逐元素计算两个数组的大小并生成一个最大值数组\n",
    "# x,y数组必须满足广播的条件\n",
    "arr_maximum = np.maximum(arr, arr_another)\n",
    "print(arr_maximum)"
   ]
  },
  {
   "cell_type": "code",
   "execution_count": 9,
   "metadata": {},
   "outputs": [
    {
     "name": "stdout",
     "output_type": "stream",
     "text": [
      "[[-0.2828007   0.63753779 -0.62114198 -0.79634071]\n",
      " [ 0.68670081  0.34103911  0.46687142 -0.23829592]\n",
      " [ 0.51477317 -0.11150707 -0.58856428 -0.73228965]] [[-1.  0. -0. -1.]\n",
      " [ 0.  0.  1. -1.]\n",
      " [ 0. -0. -0. -0.]]\n"
     ]
    }
   ],
   "source": [
    "# 通用函数也可生成多个数组，类似矩阵分解\n",
    "# mdof()函数是一个一元通用函数，用来把整数和整数后面的小数分离\n",
    "remainder,whole_part = np.modf(arr)\n",
    "print(remainder, whole_part)"
   ]
  },
  {
   "cell_type": "code",
   "execution_count": 11,
   "metadata": {},
   "outputs": [],
   "source": [
    "# 还有很多医院通用函数和二元通用函数，用法和上面的是一致的\n",
    "# 通常都是一些运算函数， 常见的额三角函数、以及加减乘除等\n",
    "# 所以就不一一列举了"
   ]
  },
  {
   "cell_type": "code",
   "execution_count": 12,
   "metadata": {},
   "outputs": [
    {
     "name": "stdout",
     "output_type": "stream",
     "text": [
      "[[-0.0080952   0.63753779  0.16143108 -0.75607419]\n",
      " [ 0.68670081  0.34103911  1.46687142 -0.75607419]\n",
      " [ 0.51477317 -0.24045181  0.16143108 -0.75607419]]\n"
     ]
    }
   ],
   "source": [
    "# np.where(condition, xarr, yarr)函数是一个三元表达式\n",
    "# 和xarr if condition else yarr语句是一样\n",
    "arr_where = np.where(arr>0, arr, arr_another)\n",
    "print(arr_where)"
   ]
  },
  {
   "cell_type": "code",
   "execution_count": 13,
   "metadata": {},
   "outputs": [
    {
     "name": "stdout",
     "output_type": "stream",
     "text": [
      "[[-1.         -0.24045181 -1.         -1.        ]\n",
      " [-0.0080952  -0.24045181  0.16143108 -1.        ]\n",
      " [-0.0080952  -1.         -1.         -1.        ]]\n"
     ]
    }
   ],
   "source": [
    "# np.where()也可以使用标量和数组进行组合\n",
    "arr_where = np.where(arr<0, -1, arr_another)\n",
    "print(arr_where)"
   ]
  },
  {
   "cell_type": "code",
   "execution_count": 14,
   "metadata": {},
   "outputs": [
    {
     "name": "stdout",
     "output_type": "stream",
     "text": [
      "[[-1  1 -1 -1]\n",
      " [ 1  1  1 -1]\n",
      " [ 1 -1 -1 -1]]\n"
     ]
    }
   ],
   "source": [
    "arr_where = np.where(arr<0, -1, 1)\n",
    "print(arr_where)"
   ]
  },
  {
   "cell_type": "code",
   "execution_count": 15,
   "metadata": {},
   "outputs": [
    {
     "name": "stdout",
     "output_type": "stream",
     "text": [
      "-0.22700150162311158\n"
     ]
    }
   ],
   "source": [
    "# 基础数组统计方法的使用\n",
    "# mean()用来求解整个数组的平均值\n",
    "arr_mean = arr.mean()\n",
    "print(arr_mean)"
   ]
  },
  {
   "cell_type": "code",
   "execution_count": 18,
   "metadata": {},
   "outputs": [
    {
     "name": "stdout",
     "output_type": "stream",
     "text": [
      "[-0.7656864   0.31407886 -0.22939696]\n"
     ]
    },
    {
     "data": {
      "text/plain": [
       "\u001b[1;31mDocstring:\u001b[0m\n",
       "a.mean(axis=None, dtype=None, out=None, keepdims=False)\n",
       "\n",
       "Returns the average of the array elements along given axis.\n",
       "\n",
       "Refer to `numpy.mean` for full documentation.\n",
       "\n",
       "See Also\n",
       "--------\n",
       "numpy.mean : equivalent function\n",
       "\u001b[1;31mType:\u001b[0m      builtin_function_or_method\n"
      ]
     },
     "metadata": {},
     "output_type": "display_data"
    }
   ],
   "source": [
    "arr.mean??\n",
    "# mean()方法有4个可以传递的参数， axis,dtype,out和keepdims\n",
    "# 经常会用的参数可能是axis， 用来指定一个轴向进行平均值的求取\n",
    "arr_mean_axis = arr.mean(axis=1)\n",
    "print(arr_mean_axis)"
   ]
  },
  {
   "cell_type": "code",
   "execution_count": 21,
   "metadata": {},
   "outputs": [
    {
     "data": {
      "text/plain": [
       "\u001b[1;31mDocstring:\u001b[0m\n",
       "a.cumsum(axis=None, dtype=None, out=None)\n",
       "\n",
       "Return the cumulative sum of the elements along the given axis.\n",
       "\n",
       "Refer to `numpy.cumsum` for full documentation.\n",
       "\n",
       "See Also\n",
       "--------\n",
       "numpy.cumsum : equivalent function\n",
       "\u001b[1;31mType:\u001b[0m      builtin_function_or_method\n"
      ]
     },
     "metadata": {},
     "output_type": "display_data"
    },
    {
     "name": "stdout",
     "output_type": "stream",
     "text": [
      "[[-1.2828007   0.63753779 -0.62114198 -1.79634071]\n",
      " [ 0.68670081  0.34103911  1.46687142 -1.23829592]\n",
      " [ 0.51477317 -0.11150707 -0.58856428 -0.73228965]] [-1.2828007  -0.64526291 -1.26640489 -3.0627456  -2.37604479 -2.03500568\n",
      " -0.56813426 -1.80643018 -1.29165702 -1.40316409 -1.99172837 -2.72401802] [[-1.2828007   0.63753779 -0.62114198 -1.79634071]\n",
      " [-0.59609989  0.9785769   0.84572944 -3.03463663]\n",
      " [-0.08132672  0.86706983  0.25716515 -3.76692628]]\n"
     ]
    }
   ],
   "source": [
    "arr.cumsum??\n",
    "# cumsum()方法对数组进行累加, 对每一个元素进行累加\n",
    "# 并将过程以数组的形式输出， 而且cumsum函数也有一个axis可选参数\n",
    "arr_cumsum = arr.cumsum()\n",
    "arr_cumsum_axis = arr.cumsum(axis=0)\n",
    "print(arr, arr_cumsum,arr_cumsum_axis)"
   ]
  },
  {
   "cell_type": "code",
   "execution_count": 22,
   "metadata": {},
   "outputs": [
    {
     "name": "stdout",
     "output_type": "stream",
     "text": [
      "[3 3 3]\n"
     ]
    }
   ],
   "source": [
    "# std()函数是用来求标准差的\n",
    "# var()函数是用来求方差的\n",
    "# min()，max()，argmin(), argmax()分别是求最小值、最大值、最小值的位置以及最大值的位置\n",
    "# 用法和前面的方法用法一致\n",
    "arr_argmin = arr.argmin(axis=1)\n",
    "print(arr_argmin)"
   ]
  },
  {
   "cell_type": "code",
   "execution_count": 23,
   "metadata": {},
   "outputs": [
    {
     "name": "stdout",
     "output_type": "stream",
     "text": [
      "[[False  True False False]\n",
      " [ True  True  True False]\n",
      " [ True False False False]] [2 2 1 0]\n"
     ]
    }
   ],
   "source": [
    "# 布尔数组的方法\n",
    "# 布尔数组中的True和False在运算中会被强制为1和0\n",
    "# 因此，布尔数组有前面介绍的方法\n",
    "arr_bool = arr > 0\n",
    "arr_bool_sum = arr_bool.sum(axis=0)\n",
    "print(arr_bool, arr_bool_sum)"
   ]
  },
  {
   "cell_type": "code",
   "execution_count": 24,
   "metadata": {},
   "outputs": [
    {
     "name": "stdout",
     "output_type": "stream",
     "text": [
      "[ True  True  True False] [False False False]\n"
     ]
    }
   ],
   "source": [
    "# 不二数组常用的方法any,all分别是检验数组中是否至少有一个True和检验数组中\n",
    "# 是否所有的值都是True\n",
    "arr_bool_any = arr_bool.any(axis=0)\n",
    "arr_bool_all = arr_bool.all(axis=1)\n",
    "print(arr_bool_any, arr_bool_all)"
   ]
  },
  {
   "cell_type": "code",
   "execution_count": 30,
   "metadata": {},
   "outputs": [
    {
     "name": "stdout",
     "output_type": "stream",
     "text": [
      "[[-1.79634071 -1.2828007  -0.62114198  0.51477317]\n",
      " [-1.23829592 -0.58856428 -0.11150707  0.63753779]\n",
      " [-0.73228965  0.34103911  0.68670081  1.46687142]]\n"
     ]
    },
    {
     "data": {
      "text/plain": [
       "\u001b[1;31mDocstring:\u001b[0m\n",
       "a.sort(axis=-1, kind='quicksort', order=None)\n",
       "\n",
       "Sort an array, in-place.\n",
       "\n",
       "Parameters\n",
       "----------\n",
       "axis : int, optional\n",
       "    Axis along which to sort. Default is -1, which means sort along the\n",
       "    last axis.\n",
       "kind : {'quicksort', 'mergesort', 'heapsort', 'stable'}, optional\n",
       "    Sorting algorithm. Default is 'quicksort'.\n",
       "order : str or list of str, optional\n",
       "    When `a` is an array with fields defined, this argument specifies\n",
       "    which fields to compare first, second, etc.  A single field can\n",
       "    be specified as a string, and not all fields need be specified,\n",
       "    but unspecified fields will still be used, in the order in which\n",
       "    they come up in the dtype, to break ties.\n",
       "\n",
       "See Also\n",
       "--------\n",
       "numpy.sort : Return a sorted copy of an array.\n",
       "argsort : Indirect sort.\n",
       "lexsort : Indirect stable sort on multiple keys.\n",
       "searchsorted : Find elements in sorted array.\n",
       "partition: Partial sort.\n",
       "\n",
       "Notes\n",
       "-----\n",
       "See ``sort`` for notes on the different sorting algorithms.\n",
       "\n",
       "Examples\n",
       "--------\n",
       ">>> a = np.array([[1,4], [3,1]])\n",
       ">>> a.sort(axis=1)\n",
       ">>> a\n",
       "array([[1, 4],\n",
       "       [1, 3]])\n",
       ">>> a.sort(axis=0)\n",
       ">>> a\n",
       "array([[1, 3],\n",
       "       [1, 4]])\n",
       "\n",
       "Use the `order` keyword to specify a field to use when sorting a\n",
       "structured array:\n",
       "\n",
       ">>> a = np.array([('a', 2), ('c', 1)], dtype=[('x', 'S1'), ('y', int)])\n",
       ">>> a.sort(order='y')\n",
       ">>> a\n",
       "array([('c', 1), ('a', 2)],\n",
       "      dtype=[('x', '|S1'), ('y', '<i4')])\n",
       "\u001b[1;31mType:\u001b[0m      builtin_function_or_method\n"
      ]
     },
     "metadata": {},
     "output_type": "display_data"
    }
   ],
   "source": [
    "# Numpy数组的排序和Python列表的排序方法一样\n",
    "# sort()方法同样可以传递一个axis可选参数， 返回的是已经排好序的数组的拷贝,所以改变了原数组\n",
    "arr.sort??\n",
    "arr.sort(axis=0)\n",
    "print(arr)"
   ]
  },
  {
   "cell_type": "code",
   "execution_count": 32,
   "metadata": {},
   "outputs": [
    {
     "name": "stdout",
     "output_type": "stream",
     "text": [
      "[1 2 3 4 5 6 7 8 9]\n"
     ]
    }
   ],
   "source": [
    "# np.unique()方法返回的是数组中唯一值排序后形成的结果\n",
    "arr_1 = np.array([1, 2, 3, 2, 1, 3, 7, 4, 7, 8, 5, 9, 5, 6]) \n",
    "arr_1_unique = np.unique(arr_1.reshape(2, 7))\n",
    "print(arr_1_unique)"
   ]
  },
  {
   "cell_type": "code",
   "execution_count": 33,
   "metadata": {},
   "outputs": [
    {
     "name": "stdout",
     "output_type": "stream",
     "text": [
      "[-1.79634071 -1.2828007  -1.23829592 -0.75607419 -0.73228965 -0.62114198\n",
      " -0.58856428 -0.24045181 -0.11150707 -0.0080952   0.16143108  0.34103911\n",
      "  0.51477317  0.63753779  0.68670081  1.46687142]\n"
     ]
    }
   ],
   "source": [
    "# 数组还可以被当作集合进行操作\n",
    "# 数组的集合操作\n",
    "# 求两个数组的并集, 返回的是一个一维数组并排序（默认从小到大）\n",
    "arr_union1d = np.union1d(arr, arr_another)\n",
    "print(arr_union1d)"
   ]
  },
  {
   "cell_type": "code",
   "execution_count": 35,
   "metadata": {},
   "outputs": [
    {
     "name": "stdout",
     "output_type": "stream",
     "text": [
      "[]\n"
     ]
    },
    {
     "data": {
      "text/plain": [
       "\u001b[1;31mSignature:\u001b[0m \u001b[0mnp\u001b[0m\u001b[1;33m.\u001b[0m\u001b[0mintersect1d\u001b[0m\u001b[1;33m(\u001b[0m\u001b[0mar1\u001b[0m\u001b[1;33m,\u001b[0m \u001b[0mar2\u001b[0m\u001b[1;33m,\u001b[0m \u001b[0massume_unique\u001b[0m\u001b[1;33m=\u001b[0m\u001b[1;32mFalse\u001b[0m\u001b[1;33m,\u001b[0m \u001b[0mreturn_indices\u001b[0m\u001b[1;33m=\u001b[0m\u001b[1;32mFalse\u001b[0m\u001b[1;33m)\u001b[0m\u001b[1;33m\u001b[0m\u001b[1;33m\u001b[0m\u001b[0m\n",
       "\u001b[1;31mSource:\u001b[0m   \n",
       "\u001b[1;33m@\u001b[0m\u001b[0marray_function_dispatch\u001b[0m\u001b[1;33m(\u001b[0m\u001b[0m_intersect1d_dispatcher\u001b[0m\u001b[1;33m)\u001b[0m\u001b[1;33m\n",
       "\u001b[0m\u001b[1;32mdef\u001b[0m \u001b[0mintersect1d\u001b[0m\u001b[1;33m(\u001b[0m\u001b[0mar1\u001b[0m\u001b[1;33m,\u001b[0m \u001b[0mar2\u001b[0m\u001b[1;33m,\u001b[0m \u001b[0massume_unique\u001b[0m\u001b[1;33m=\u001b[0m\u001b[1;32mFalse\u001b[0m\u001b[1;33m,\u001b[0m \u001b[0mreturn_indices\u001b[0m\u001b[1;33m=\u001b[0m\u001b[1;32mFalse\u001b[0m\u001b[1;33m)\u001b[0m\u001b[1;33m:\u001b[0m\u001b[1;33m\n",
       "\u001b[0m    \u001b[1;34m\"\"\"\n",
       "    Find the intersection of two arrays.\n",
       "\n",
       "    Return the sorted, unique values that are in both of the input arrays.\n",
       "\n",
       "    Parameters\n",
       "    ----------\n",
       "    ar1, ar2 : array_like\n",
       "        Input arrays. Will be flattened if not already 1D.\n",
       "    assume_unique : bool\n",
       "        If True, the input arrays are both assumed to be unique, which\n",
       "        can speed up the calculation.  Default is False.\n",
       "    return_indices : bool\n",
       "        If True, the indices which correspond to the intersection of the two\n",
       "        arrays are returned. The first instance of a value is used if there are\n",
       "        multiple. Default is False.\n",
       "\n",
       "        .. versionadded:: 1.15.0\n",
       "\n",
       "    Returns\n",
       "    -------\n",
       "    intersect1d : ndarray\n",
       "        Sorted 1D array of common and unique elements.\n",
       "    comm1 : ndarray\n",
       "        The indices of the first occurrences of the common values in `ar1`.\n",
       "        Only provided if `return_indices` is True.\n",
       "    comm2 : ndarray\n",
       "        The indices of the first occurrences of the common values in `ar2`.\n",
       "        Only provided if `return_indices` is True.\n",
       "\n",
       "\n",
       "    See Also\n",
       "    --------\n",
       "    numpy.lib.arraysetops : Module with a number of other functions for\n",
       "                            performing set operations on arrays.\n",
       "\n",
       "    Examples\n",
       "    --------\n",
       "    >>> np.intersect1d([1, 3, 4, 3], [3, 1, 2, 1])\n",
       "    array([1, 3])\n",
       "\n",
       "    To intersect more than two arrays, use functools.reduce:\n",
       "\n",
       "    >>> from functools import reduce\n",
       "    >>> reduce(np.intersect1d, ([1, 3, 4, 3], [3, 1, 2, 1], [6, 3, 4, 2]))\n",
       "    array([3])\n",
       "\n",
       "    To return the indices of the values common to the input arrays\n",
       "    along with the intersected values:\n",
       "    >>> x = np.array([1, 1, 2, 3, 4])\n",
       "    >>> y = np.array([2, 1, 4, 6])\n",
       "    >>> xy, x_ind, y_ind = np.intersect1d(x, y, return_indices=True)\n",
       "    >>> x_ind, y_ind\n",
       "    (array([0, 2, 4]), array([1, 0, 2]))\n",
       "    >>> xy, x[x_ind], y[y_ind]\n",
       "    (array([1, 2, 4]), array([1, 2, 4]), array([1, 2, 4]))\n",
       "\n",
       "    \"\"\"\u001b[0m\u001b[1;33m\n",
       "\u001b[0m    \u001b[0mar1\u001b[0m \u001b[1;33m=\u001b[0m \u001b[0mnp\u001b[0m\u001b[1;33m.\u001b[0m\u001b[0masanyarray\u001b[0m\u001b[1;33m(\u001b[0m\u001b[0mar1\u001b[0m\u001b[1;33m)\u001b[0m\u001b[1;33m\n",
       "\u001b[0m    \u001b[0mar2\u001b[0m \u001b[1;33m=\u001b[0m \u001b[0mnp\u001b[0m\u001b[1;33m.\u001b[0m\u001b[0masanyarray\u001b[0m\u001b[1;33m(\u001b[0m\u001b[0mar2\u001b[0m\u001b[1;33m)\u001b[0m\u001b[1;33m\n",
       "\u001b[0m\u001b[1;33m\n",
       "\u001b[0m    \u001b[1;32mif\u001b[0m \u001b[1;32mnot\u001b[0m \u001b[0massume_unique\u001b[0m\u001b[1;33m:\u001b[0m\u001b[1;33m\n",
       "\u001b[0m        \u001b[1;32mif\u001b[0m \u001b[0mreturn_indices\u001b[0m\u001b[1;33m:\u001b[0m\u001b[1;33m\n",
       "\u001b[0m            \u001b[0mar1\u001b[0m\u001b[1;33m,\u001b[0m \u001b[0mind1\u001b[0m \u001b[1;33m=\u001b[0m \u001b[0munique\u001b[0m\u001b[1;33m(\u001b[0m\u001b[0mar1\u001b[0m\u001b[1;33m,\u001b[0m \u001b[0mreturn_index\u001b[0m\u001b[1;33m=\u001b[0m\u001b[1;32mTrue\u001b[0m\u001b[1;33m)\u001b[0m\u001b[1;33m\n",
       "\u001b[0m            \u001b[0mar2\u001b[0m\u001b[1;33m,\u001b[0m \u001b[0mind2\u001b[0m \u001b[1;33m=\u001b[0m \u001b[0munique\u001b[0m\u001b[1;33m(\u001b[0m\u001b[0mar2\u001b[0m\u001b[1;33m,\u001b[0m \u001b[0mreturn_index\u001b[0m\u001b[1;33m=\u001b[0m\u001b[1;32mTrue\u001b[0m\u001b[1;33m)\u001b[0m\u001b[1;33m\n",
       "\u001b[0m        \u001b[1;32melse\u001b[0m\u001b[1;33m:\u001b[0m\u001b[1;33m\n",
       "\u001b[0m            \u001b[0mar1\u001b[0m \u001b[1;33m=\u001b[0m \u001b[0munique\u001b[0m\u001b[1;33m(\u001b[0m\u001b[0mar1\u001b[0m\u001b[1;33m)\u001b[0m\u001b[1;33m\n",
       "\u001b[0m            \u001b[0mar2\u001b[0m \u001b[1;33m=\u001b[0m \u001b[0munique\u001b[0m\u001b[1;33m(\u001b[0m\u001b[0mar2\u001b[0m\u001b[1;33m)\u001b[0m\u001b[1;33m\n",
       "\u001b[0m    \u001b[1;32melse\u001b[0m\u001b[1;33m:\u001b[0m\u001b[1;33m\n",
       "\u001b[0m        \u001b[0mar1\u001b[0m \u001b[1;33m=\u001b[0m \u001b[0mar1\u001b[0m\u001b[1;33m.\u001b[0m\u001b[0mravel\u001b[0m\u001b[1;33m(\u001b[0m\u001b[1;33m)\u001b[0m\u001b[1;33m\n",
       "\u001b[0m        \u001b[0mar2\u001b[0m \u001b[1;33m=\u001b[0m \u001b[0mar2\u001b[0m\u001b[1;33m.\u001b[0m\u001b[0mravel\u001b[0m\u001b[1;33m(\u001b[0m\u001b[1;33m)\u001b[0m\u001b[1;33m\n",
       "\u001b[0m\u001b[1;33m\n",
       "\u001b[0m    \u001b[0maux\u001b[0m \u001b[1;33m=\u001b[0m \u001b[0mnp\u001b[0m\u001b[1;33m.\u001b[0m\u001b[0mconcatenate\u001b[0m\u001b[1;33m(\u001b[0m\u001b[1;33m(\u001b[0m\u001b[0mar1\u001b[0m\u001b[1;33m,\u001b[0m \u001b[0mar2\u001b[0m\u001b[1;33m)\u001b[0m\u001b[1;33m)\u001b[0m\u001b[1;33m\n",
       "\u001b[0m    \u001b[1;32mif\u001b[0m \u001b[0mreturn_indices\u001b[0m\u001b[1;33m:\u001b[0m\u001b[1;33m\n",
       "\u001b[0m        \u001b[0maux_sort_indices\u001b[0m \u001b[1;33m=\u001b[0m \u001b[0mnp\u001b[0m\u001b[1;33m.\u001b[0m\u001b[0margsort\u001b[0m\u001b[1;33m(\u001b[0m\u001b[0maux\u001b[0m\u001b[1;33m,\u001b[0m \u001b[0mkind\u001b[0m\u001b[1;33m=\u001b[0m\u001b[1;34m'mergesort'\u001b[0m\u001b[1;33m)\u001b[0m\u001b[1;33m\n",
       "\u001b[0m        \u001b[0maux\u001b[0m \u001b[1;33m=\u001b[0m \u001b[0maux\u001b[0m\u001b[1;33m[\u001b[0m\u001b[0maux_sort_indices\u001b[0m\u001b[1;33m]\u001b[0m\u001b[1;33m\n",
       "\u001b[0m    \u001b[1;32melse\u001b[0m\u001b[1;33m:\u001b[0m\u001b[1;33m\n",
       "\u001b[0m        \u001b[0maux\u001b[0m\u001b[1;33m.\u001b[0m\u001b[0msort\u001b[0m\u001b[1;33m(\u001b[0m\u001b[1;33m)\u001b[0m\u001b[1;33m\n",
       "\u001b[0m\u001b[1;33m\n",
       "\u001b[0m    \u001b[0mmask\u001b[0m \u001b[1;33m=\u001b[0m \u001b[0maux\u001b[0m\u001b[1;33m[\u001b[0m\u001b[1;36m1\u001b[0m\u001b[1;33m:\u001b[0m\u001b[1;33m]\u001b[0m \u001b[1;33m==\u001b[0m \u001b[0maux\u001b[0m\u001b[1;33m[\u001b[0m\u001b[1;33m:\u001b[0m\u001b[1;33m-\u001b[0m\u001b[1;36m1\u001b[0m\u001b[1;33m]\u001b[0m\u001b[1;33m\n",
       "\u001b[0m    \u001b[0mint1d\u001b[0m \u001b[1;33m=\u001b[0m \u001b[0maux\u001b[0m\u001b[1;33m[\u001b[0m\u001b[1;33m:\u001b[0m\u001b[1;33m-\u001b[0m\u001b[1;36m1\u001b[0m\u001b[1;33m]\u001b[0m\u001b[1;33m[\u001b[0m\u001b[0mmask\u001b[0m\u001b[1;33m]\u001b[0m\u001b[1;33m\n",
       "\u001b[0m\u001b[1;33m\n",
       "\u001b[0m    \u001b[1;32mif\u001b[0m \u001b[0mreturn_indices\u001b[0m\u001b[1;33m:\u001b[0m\u001b[1;33m\n",
       "\u001b[0m        \u001b[0mar1_indices\u001b[0m \u001b[1;33m=\u001b[0m \u001b[0maux_sort_indices\u001b[0m\u001b[1;33m[\u001b[0m\u001b[1;33m:\u001b[0m\u001b[1;33m-\u001b[0m\u001b[1;36m1\u001b[0m\u001b[1;33m]\u001b[0m\u001b[1;33m[\u001b[0m\u001b[0mmask\u001b[0m\u001b[1;33m]\u001b[0m\u001b[1;33m\n",
       "\u001b[0m        \u001b[0mar2_indices\u001b[0m \u001b[1;33m=\u001b[0m \u001b[0maux_sort_indices\u001b[0m\u001b[1;33m[\u001b[0m\u001b[1;36m1\u001b[0m\u001b[1;33m:\u001b[0m\u001b[1;33m]\u001b[0m\u001b[1;33m[\u001b[0m\u001b[0mmask\u001b[0m\u001b[1;33m]\u001b[0m \u001b[1;33m-\u001b[0m \u001b[0mar1\u001b[0m\u001b[1;33m.\u001b[0m\u001b[0msize\u001b[0m\u001b[1;33m\n",
       "\u001b[0m        \u001b[1;32mif\u001b[0m \u001b[1;32mnot\u001b[0m \u001b[0massume_unique\u001b[0m\u001b[1;33m:\u001b[0m\u001b[1;33m\n",
       "\u001b[0m            \u001b[0mar1_indices\u001b[0m \u001b[1;33m=\u001b[0m \u001b[0mind1\u001b[0m\u001b[1;33m[\u001b[0m\u001b[0mar1_indices\u001b[0m\u001b[1;33m]\u001b[0m\u001b[1;33m\n",
       "\u001b[0m            \u001b[0mar2_indices\u001b[0m \u001b[1;33m=\u001b[0m \u001b[0mind2\u001b[0m\u001b[1;33m[\u001b[0m\u001b[0mar2_indices\u001b[0m\u001b[1;33m]\u001b[0m\u001b[1;33m\n",
       "\u001b[0m\u001b[1;33m\n",
       "\u001b[0m        \u001b[1;32mreturn\u001b[0m \u001b[0mint1d\u001b[0m\u001b[1;33m,\u001b[0m \u001b[0mar1_indices\u001b[0m\u001b[1;33m,\u001b[0m \u001b[0mar2_indices\u001b[0m\u001b[1;33m\n",
       "\u001b[0m    \u001b[1;32melse\u001b[0m\u001b[1;33m:\u001b[0m\u001b[1;33m\n",
       "\u001b[0m        \u001b[1;32mreturn\u001b[0m \u001b[0mint1d\u001b[0m\u001b[1;33m\u001b[0m\u001b[1;33m\u001b[0m\u001b[0m\n",
       "\u001b[1;31mFile:\u001b[0m      c:\\users\\yu\\anaconda3\\lib\\site-packages\\numpy\\lib\\arraysetops.py\n",
       "\u001b[1;31mType:\u001b[0m      function\n"
      ]
     },
     "metadata": {},
     "output_type": "display_data"
    }
   ],
   "source": [
    "# np.intersect1d()计算两个数组的交集并返回排好序的一维数组\n",
    "np.intersect1d??\n",
    "arr_intersect1d = np.intersect1d(arr, arr_another)\n",
    "print(arr_intersect1d)"
   ]
  },
  {
   "cell_type": "code",
   "execution_count": 36,
   "metadata": {},
   "outputs": [
    {
     "name": "stdout",
     "output_type": "stream",
     "text": [
      "[False False False False False False False False False False False False]\n"
     ]
    }
   ],
   "source": [
    "# 方法in1d，setdiff1d,sefxor1d都是数组的集合操作方法\n",
    "# in1d(x, y)函数计算x中的元素是否在y中出现， 返回一个布尔型一维数组\n",
    "arr_in1d = np.in1d(arr, arr_another)\n",
    "print(arr_in1d)"
   ]
  },
  {
   "cell_type": "code",
   "execution_count": 37,
   "metadata": {},
   "outputs": [
    {
     "name": "stdout",
     "output_type": "stream",
     "text": [
      "[-1.79634071 -1.2828007  -1.23829592 -0.73228965 -0.62114198 -0.58856428\n",
      " -0.11150707  0.34103911  0.51477317  0.63753779  0.68670081  1.46687142]\n"
     ]
    }
   ],
   "source": [
    "# setdiff1d(x,y)函数计算x和y数组的的差集， 在x中但不在y中\n",
    "arr_setdiff1d = np.setdiff1d(arr, arr_another)\n",
    "print(arr_setdiff1d)"
   ]
  },
  {
   "cell_type": "code",
   "execution_count": 39,
   "metadata": {},
   "outputs": [
    {
     "name": "stdout",
     "output_type": "stream",
     "text": [
      "[-1.79634071 -1.2828007  -1.23829592 -0.75607419 -0.73228965 -0.62114198\n",
      " -0.58856428 -0.24045181 -0.11150707 -0.0080952   0.16143108  0.34103911\n",
      "  0.51477317  0.63753779  0.68670081  1.46687142]\n"
     ]
    }
   ],
   "source": [
    "# np.setxor(x,y)异或集， 在x中或者在y中，但不属于x和y的交集\n",
    "arr_setxor1d = np.setxor1d(arr, arr_another)\n",
    "print(arr_setxor1d)"
   ]
  },
  {
   "cell_type": "code",
   "execution_count": 40,
   "metadata": {},
   "outputs": [],
   "source": [
    "# 数组数据持久化\n",
    "# np.save()和np.load()函数分别用来保存数组和提取数组\n",
    "# 保存数组的文件是以.npy为后缀的, 如果不添加后缀系统会自动追加\n",
    "np.save('arr.npy', arr)"
   ]
  },
  {
   "cell_type": "code",
   "execution_count": 41,
   "metadata": {},
   "outputs": [
    {
     "name": "stdout",
     "output_type": "stream",
     "text": [
      "[[-1.79634071 -1.2828007  -0.62114198  0.51477317]\n",
      " [-1.23829592 -0.58856428 -0.11150707  0.63753779]\n",
      " [-0.73228965  0.34103911  0.68670081  1.46687142]]\n"
     ]
    }
   ],
   "source": [
    "arr = np.load('arr.npy')\n",
    "print(arr)"
   ]
  },
  {
   "cell_type": "code",
   "execution_count": 42,
   "metadata": {},
   "outputs": [
    {
     "name": "stdout",
     "output_type": "stream",
     "text": [
      "[[-2.88853961 -0.66317976 -0.64563035]\n",
      " [ 0.23126053  1.93484817  1.23121839]\n",
      " [ 0.33808156 -2.43489847 -2.16350845]]\n"
     ]
    }
   ],
   "source": [
    "# 线性代数函数和方法\n",
    "# 前面使用的运算都是逐元素的，和矩阵的运算是完全不一样的\n",
    "# 矩阵作为线性代数的基本概念，矩阵之间的乘积运算非常常用\n",
    "# 在numpy中数组作为矩阵进行乘积的方法时dot()方法，也可以作为顶层函数\n",
    "arr1 = np.random.randn(3, 4)\n",
    "arr2 = np.random.randn(4, 3)\n",
    "arr_dot = arr1.dot(arr2)  # 等价于np.dot(arr1,arr2)\n",
    "print(arr_dot)"
   ]
  },
  {
   "cell_type": "code",
   "execution_count": 44,
   "metadata": {},
   "outputs": [
    {
     "name": "stdout",
     "output_type": "stream",
     "text": [
      "[[-0.04321979  0.3142347   0.26530525]\n",
      " [-1.90941421  2.89020573 -1.36681113]\n",
      " [-1.53783292  1.17000569 -0.253854  ]]\n"
     ]
    }
   ],
   "source": [
    "# numpy.linalg 是一个矩阵分解的标准函数集并且包含一些常用的函数\n",
    "# 矩阵求逆运算np.linalg.inv()\n",
    "arr3 = np.random.randn(3,3)\n",
    "arr3_inv = np.linalg.inv(arr3)\n",
    "print(arr3_inv)"
   ]
  },
  {
   "cell_type": "code",
   "execution_count": 48,
   "metadata": {},
   "outputs": [
    {
     "data": {
      "text/plain": [
       "-1.6982041876272458"
      ]
     },
     "execution_count": 48,
     "metadata": {},
     "output_type": "execute_result"
    }
   ],
   "source": [
    "# 计算矩阵对角元素的和（迹）\n",
    "arr_trace = np.trace(arr)\n",
    "arr_trace"
   ]
  },
  {
   "cell_type": "code",
   "execution_count": 51,
   "metadata": {},
   "outputs": [
    {
     "name": "stdout",
     "output_type": "stream",
     "text": [
      "0.9458321461286539\n"
     ]
    }
   ],
   "source": [
    "# 计算矩阵行列式\n",
    "arr3_det = np.linalg.det(arr3)\n",
    "print(arr3_det)"
   ]
  },
  {
   "cell_type": "code",
   "execution_count": 53,
   "metadata": {},
   "outputs": [
    {
     "name": "stdout",
     "output_type": "stream",
     "text": [
      "[0.57868297+1.23740186j 0.57868297-1.23740186j 0.50686668+0.j        ] [[ 0.14445269+0.4447245j   0.14445269-0.4447245j  -0.18913869+0.j        ]\n",
      " [ 0.52096684+0.19522599j  0.52096684-0.19522599j -0.91699915+0.j        ]\n",
      " [ 0.68690167+0.j          0.68690167-0.j         -0.35119669+0.j        ]]\n"
     ]
    }
   ],
   "source": [
    "# 计算矩阵特征值和特征向量\n",
    "eigvalues,eigvector = np.linalg.eig(arr3)\n",
    "print(eigvalues, eigvector)"
   ]
  },
  {
   "cell_type": "code",
   "execution_count": 55,
   "metadata": {},
   "outputs": [
    {
     "name": "stdout",
     "output_type": "stream",
     "text": [
      "[[-1.04246444  1.11140631 -1.07776142]\n",
      " [-1.23938756  0.86790047  1.56015067]\n",
      " [ 0.29496392 -1.02216733  1.05636019]] 0.05655564600602535 1.1584298211970898\n"
     ]
    }
   ],
   "source": [
    "# np.linalg中还有关于线性代数的函数以及方法\n",
    "# 例如solve,qr,diag等\n",
    "# 伪随机数的生成, 因为这种随机数的生成是由确定性的算法根据随机数种子生成的\n",
    "# np.random模块可以生成多种概率分布下的完整样本值数组\n",
    "# np.random.normal(size=(4,4))可以生成一个服从正态分布的4x4的样本值数数组\n",
    "arr_normal = np.random.normal(size=(3,3))\n",
    "print(arr_normal, arr_normal.mean(), arr_normal.var())"
   ]
  },
  {
   "cell_type": "code",
   "execution_count": 56,
   "metadata": {},
   "outputs": [
    {
     "name": "stdout",
     "output_type": "stream",
     "text": [
      "[1.62434536]\n",
      "[1.62434536]\n"
     ]
    }
   ],
   "source": [
    "# np.random.seed()用来修改随机数种子\n",
    "# 随机数种子一样时， 生成的随机数是一样的\n",
    "np.random.seed(1)\n",
    "arr_seed1 = np.random.randn(1)\n",
    "print(arr_seed1)\n",
    "np.random.seed(1)\n",
    "arr_seed1 = np.random.randn(1)\n",
    "print(arr_seed1)"
   ]
  },
  {
   "cell_type": "code",
   "execution_count": 58,
   "metadata": {},
   "outputs": [
    {
     "name": "stdout",
     "output_type": "stream",
     "text": [
      "[[-0.61175641 -0.52817175 -1.07296862  0.86540763]\n",
      " [-2.3015387   1.74481176 -0.7612069   0.3190391 ]\n",
      " [-0.24937038  1.46210794 -2.06014071 -0.3224172 ]] -0.2930170206825356 1.4244869835265\n"
     ]
    }
   ],
   "source": [
    "# np.random.rand()生成均匀分布的样本值数组\n",
    "# np.random.randn()生成标准正态分布的样本值数组\n",
    "# np.random.binomial()生成二项分布的样本值数组\n",
    "# np.random.beta()生成beta分布的样本值组成的数组\n",
    "arr_randn = np.random.randn(3,4)\n",
    "print(arr_randn, arr_randn.mean(), arr_randn.var())"
   ]
  },
  {
   "cell_type": "code",
   "execution_count": 61,
   "metadata": {},
   "outputs": [
    {
     "data": {
      "image/png": "[encoded data removed]",
      "text/plain": [
       "<Figure size 864x720 with 1 Axes>"
      ]
     },
     "metadata": {
      "needs_background": "light"
     },
     "output_type": "display_data"
    }
   ],
   "source": [
    "# 随机漫步\n",
    "import random\n",
    "import matplotlib.pyplot as plt\n",
    "\n",
    "position = 0\n",
    "walks = [position]\n",
    "steps = 10000\n",
    "for i in range(steps):\n",
    "    step = 1 if random.randint(0, 1) else -1\n",
    "    position += step\n",
    "    walks.append(position)\n",
    "%matplotlib inline\n",
    "\n",
    "plt.figure(figsize=[12, 10])\n",
    "plt.plot(walks)\n",
    "plt.xlabel('step')\n",
    "plt.ylabel('position')\n",
    "plt.show()"
   ]
  },
  {
   "cell_type": "code",
   "execution_count": 63,
   "metadata": {},
   "outputs": [
    {
     "name": "stdout",
     "output_type": "stream",
     "text": [
      "2406 4818087 -1551 989034\n"
     ]
    },
    {
     "data": {
      "image/png": "[encoded data removed]",
      "text/plain": [
       "<Figure size 864x720 with 1 Axes>"
      ]
     },
     "metadata": {
      "needs_background": "light"
     },
     "output_type": "display_data"
    }
   ],
   "source": [
    "# 利用数组进行随机漫步\n",
    "walks = np.random.randint(0, 2, size=(1000, 5000))\n",
    "steps = np.where(walks>0, 1, -1)\n",
    "position = steps.cumsum()\n",
    "print(position.max(), position.argmax(), position.min(), position.argmin())\n",
    "%matplotlib inline\n",
    "plt.figure(figsize=[12,10])\n",
    "plt.plot(position)\n",
    "plt.xlabel('step')\n",
    "plt.ylabel('position')\n",
    "plt.show()"
   ]
  },
  {
   "cell_type": "code",
   "execution_count": null,
   "metadata": {},
   "outputs": [],
   "source": []
  }
 ],
 "metadata": {
  "kernelspec": {
   "display_name": "Python 3",
   "language": "python",
   "name": "python3"
  },
  "language_info": {
   "codemirror_mode": {
    "name": "ipython",
    "version": 3
   },
   "file_extension": ".py",
   "mimetype": "text/x-python",
   "name": "python",
   "nbconvert_exporter": "python",
   "pygments_lexer": "ipython3",
   "version": "3.7.4"
  }
 },
 "nbformat": 4,
 "nbformat_minor": 4
}
