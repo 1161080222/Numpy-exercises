{
 "cells": [
  {
   "cell_type": "code",
   "execution_count": 1,
   "metadata": {},
   "outputs": [],
   "source": [
    "# Numpy的核心内容之一时N维数组对象——ndarray。一个ndarray对象通常是一个统统的多维同类数据容器，\n",
    "# 即，它包含的每一个元素均为相同类型。ndarray对象有dtype属性和shape属性分别用来描述数组的数据\n",
    "# 类型和数组每一维度上元素的数量（数组形状）。\n",
    "# import numpy as np 是约定俗称的numpy导入方式；\n",
    "import numpy as np"
   ]
  },
  {
   "cell_type": "code",
   "execution_count": 4,
   "metadata": {},
   "outputs": [
    {
     "name": "stdout",
     "output_type": "stream",
     "text": [
      "<class 'numpy.ndarray'> [1 2 3 4 5 6]\n"
     ]
    }
   ],
   "source": [
    "# 生成ndarray数组的方式比较多，方便不同的使用需求\n",
    "# 使用最简单的np.array()函数生成，array函数接收任意的序列型对象（比如列表、集合、元组以及数组等），以列表为例：\n",
    "list1 = [1, 2, 3, 4, 5, 6]\n",
    "arr1 = np.array(list1)\n",
    "print(type(arr1), arr1)"
   ]
  },
  {
   "cell_type": "code",
   "execution_count": 6,
   "metadata": {},
   "outputs": [
    {
     "name": "stdout",
     "output_type": "stream",
     "text": [
      "<class 'numpy.ndarray'> [[1 2 3 4]\n",
      " [5 6 7 8]]\n"
     ]
    }
   ],
   "source": [
    "# 如果是嵌套序列且等长度，则会转换成多维数组：\n",
    "list2 = [[1, 2, 3, 4], [5, 6, 7, 8]]\n",
    "arr2 = np.array(list2)\n",
    "print(type(arr2), arr2)"
   ]
  },
  {
   "cell_type": "code",
   "execution_count": 7,
   "metadata": {},
   "outputs": [
    {
     "name": "stdout",
     "output_type": "stream",
     "text": [
      "2\n",
      "(2, 4)\n"
     ]
    }
   ],
   "source": [
    "# 上面生成的多维数组可以使用属性ndim或shape来检验它的维数和每一维度上的元素数量\n",
    "print(arr2.ndim)  # 输出2\n",
    "print(arr2.shape)  # 输出(2, 4)"
   ]
  },
  {
   "cell_type": "code",
   "execution_count": 8,
   "metadata": {},
   "outputs": [
    {
     "name": "stdout",
     "output_type": "stream",
     "text": [
      "[[1. 0. 0.]\n",
      " [0. 1. 0.]\n",
      " [0. 0. 1.]] (3, 3)\n"
     ]
    }
   ],
   "source": [
    "# 当然，np.array函数生成数组的方法比较简单， 但是前提是需要一个序列型对象进行转换\n",
    "# 而像常用的类似单位矩阵的数组使用np.array方法比较麻烦，那么np.eys()正好就解决了这个问题\n",
    "# np.eye()和 np.identity()用来生成给定维度的方阵\n",
    "arr3 = np.eye(3)  # 生成一个3*3的单位矩阵\n",
    "print(arr3, arr3.shape)"
   ]
  },
  {
   "cell_type": "code",
   "execution_count": 10,
   "metadata": {},
   "outputs": [
    {
     "name": "stdout",
     "output_type": "stream",
     "text": [
      "[[1. 1. 1.]\n",
      " [1. 1. 1.]] (2, 3)\n",
      "[[0. 0. 0.]\n",
      " [0. 0. 0.]\n",
      " [0. 0. 0.]] (3, 3)\n"
     ]
    }
   ],
   "source": [
    "# 类似地， np.ones()和np.zeros()生成给定shape属性的全为1或全为0的数组\n",
    "arr4 = np.ones((2, 3))\n",
    "arr5 = np.zeros((3, 3))\n",
    "print(arr4, arr4.shape)\n",
    "print(arr5, arr5.shape)"
   ]
  },
  {
   "cell_type": "code",
   "execution_count": 11,
   "metadata": {},
   "outputs": [
    {
     "name": "stdout",
     "output_type": "stream",
     "text": [
      "[[0.40318059 0.68030606 0.08274558]\n",
      " [0.24822664 0.5582888  0.79787825]] (2, 3)\n"
     ]
    }
   ],
   "source": [
    "# 如果需要生成一个随机数组成的指定shape的数组，则使用np.random.random()\n",
    "# 函数，传入shape参数即可\n",
    "arr6 = np.random.random((2, 3))\n",
    "print(arr6, arr6.shape)"
   ]
  },
  {
   "cell_type": "code",
   "execution_count": 12,
   "metadata": {},
   "outputs": [
    {
     "name": "stdout",
     "output_type": "stream",
     "text": [
      "[1 2 3 4 5 6]\n"
     ]
    }
   ],
   "source": [
    "# 和Python内建函数range一样， 有时候用于迭代，numpy中对应存在np.arange()函数\n",
    "# 用于生成指定范围的一维数组\n",
    "arr7 = np.arange(1, 7)  # (1, 7)相当于一个左闭右开的区间，即不包含末尾的数字\n",
    "print(arr7)"
   ]
  },
  {
   "cell_type": "code",
   "execution_count": 14,
   "metadata": {},
   "outputs": [
    {
     "name": "stdout",
     "output_type": "stream",
     "text": [
      "[[1. 1. 1.]\n",
      " [1. 1. 1.]\n",
      " [1. 1. 1.]] True\n"
     ]
    }
   ],
   "source": [
    "# 对于ones, zeros, 衍生出ones_like()和zeros_like()函数，\n",
    "# 传入已有的数组， 然后生成和该数组shape一样的全为1或全为0的数组\n",
    "arr8 = np.ones_like(arr3)\n",
    "print(arr8, arr8.shape==arr3.shape)"
   ]
  },
  {
   "cell_type": "code",
   "execution_count": 17,
   "metadata": {},
   "outputs": [
    {
     "name": "stdout",
     "output_type": "stream",
     "text": [
      "[[4. 4.]\n",
      " [4. 4.]\n",
      " [4. 4.]]\n"
     ]
    }
   ],
   "source": [
    "# 如果想要生成特定shape的数组且指定一个填入的数值， 则使用np.full()函数\n",
    "arr9 = np.full(shape=(3, 2), fill_value=4, dtype=float)  # dtype用于指定数据类型\n",
    "print(arr9)"
   ]
  },
  {
   "cell_type": "code",
   "execution_count": 18,
   "metadata": {},
   "outputs": [
    {
     "name": "stdout",
     "output_type": "stream",
     "text": [
      "[[5 5]\n",
      " [5 5]\n",
      " [5 5]]\n"
     ]
    }
   ],
   "source": [
    "# 类似地， full函数也衍生了full_like()函数\n",
    "arr10 = np.full_like(arr9, fill_value=5, dtype=int)\n",
    "print(arr10)"
   ]
  },
  {
   "cell_type": "code",
   "execution_count": 22,
   "metadata": {},
   "outputs": [
    {
     "data": {
      "text/plain": [
       "array([[         0, 1072693248,          0],\n",
       "       [1072693248,          0, 1072693248]])"
      ]
     },
     "execution_count": 22,
     "metadata": {},
     "output_type": "execute_result"
    }
   ],
   "source": [
    "# empty函数和empty_like函数生成给定形状但没有初始化数值的空数组\n",
    "arr11 = np.empty(shape=(2, 3), dtype=int)\n",
    "arr11"
   ]
  },
  {
   "cell_type": "code",
   "execution_count": 23,
   "metadata": {},
   "outputs": [
    {
     "name": "stdout",
     "output_type": "stream",
     "text": [
      "int32\n"
     ]
    }
   ],
   "source": [
    "# 上面的例子中也提到了dtype这个参数， 和shape参数一样， dtype也是ndarray\n",
    "# 数组的属性，用来描述数组中元素的数据类型（因为数组中每一个元素的数据类型是一样的）\n",
    "print(arr11.dtype)"
   ]
  },
  {
   "cell_type": "markdown",
   "metadata": {},
   "source": [
    "* ndarray的数据类型有\n",
    "|类型|类型代码|描述|\n",
    "|---:|---:|---:|\n",
    "int8, uint8|i1,u1|有符号和无符号的8数位整数\n",
    "int16,uimt16|i2,u2|有符号和无符号的16数位整数\n",
    "int32,uint32|i4,u4|有符号和无符号的32数位整数\n",
    "int64,uint64|i8,u8|有符号和无符号的64数位整数\n",
    "float16|f2|半精度浮点数\n",
    "float32|f4或f|标准单精度浮点数\n",
    "float64|f8或d|标准双精度浮点数\n",
    "float128|f16或g|拓展精度浮点数\n",
    "complex64|c8,c16,c32|分别基于32位，64位，128位浮点数的复数\n",
    "bool|?|布尔值， False或True\n",
    "object|O|Python对象类型"
   ]
  },
  {
   "cell_type": "code",
   "execution_count": 32,
   "metadata": {},
   "outputs": [
    {
     "name": "stdout",
     "output_type": "stream",
     "text": [
      "float64\n"
     ]
    }
   ],
   "source": [
    "# astype方法显示的转换数组的数据类型, 但不会改变对象的dtype属性，会生成一个新的对象\n",
    "# 有些元素无法转换成另一类型时， 会抛出ValueError\n",
    "arr12 = np.full_like(arr11, fill_value=2,dtype='float64')\n",
    "print(arr12.dtype)"
   ]
  },
  {
   "cell_type": "code",
   "execution_count": 34,
   "metadata": {},
   "outputs": [
    {
     "name": "stdout",
     "output_type": "stream",
     "text": [
      "int32\n"
     ]
    }
   ],
   "source": [
    "arr12_1 = arr12.astype('int32')\n",
    "print(arr12_1.dtype)"
   ]
  },
  {
   "cell_type": "code",
   "execution_count": 35,
   "metadata": {},
   "outputs": [
    {
     "data": {
      "text/plain": [
       "array([[ 1,  4,  9, 16],\n",
       "       [16, 25, 36, 49]])"
      ]
     },
     "execution_count": 35,
     "metadata": {},
     "output_type": "execute_result"
    }
   ],
   "source": [
    "# Numpy 数组运算\n",
    "# 数组进行批量操作（对每一个元素进行同种操作）时不需要使用for循环\n",
    "# 这种特性俗称向量化，任何两个等尺寸数组之间的算数操作都应用了主元素操作的方法\n",
    "arr13 = np.array([[1,2,3,4],[4,5,6,7]])\n",
    "arr14 = np.array([[11, 12, 13, 14], [15, 16, 17, 18]])\n",
    "print(arr13 *arr13)  # 对arr13中的元素求平方操作"
   ]
  },
  {
   "cell_type": "code",
   "execution_count": 36,
   "metadata": {},
   "outputs": [
    {
     "name": "stdout",
     "output_type": "stream",
     "text": [
      "[[1.         0.5        0.33333333 0.25      ]\n",
      " [0.25       0.2        0.16666667 0.14285714]]\n",
      "[[ 2  4  6  8]\n",
      " [ 8 10 12 14]]\n",
      "[[ 1  4  9 16]\n",
      " [16 25 36 49]]\n",
      "[[False False False False]\n",
      " [False False False False]]\n"
     ]
    }
   ],
   "source": [
    "# 带有标量计算的算数操作，会把计算参数传递给数组的每一个元素\n",
    "print(1/arr13)\n",
    "print(arr13 * 2)\n",
    "print(arr13 ** 2)\n",
    "# 同尺寸数组之间的比较， 会产生一个布尔值数值\n",
    "print(arr13 > arr14)"
   ]
  },
  {
   "cell_type": "code",
   "execution_count": 38,
   "metadata": {},
   "outputs": [
    {
     "name": "stdout",
     "output_type": "stream",
     "text": [
      "2 [1 2 3]\n"
     ]
    }
   ],
   "source": [
    "# 基础索引与切片\n",
    "# Numpy数组有很多种方式可以选中数据的子集或某个单个元素， 一维数组比较简单，看起来和Python的列表类似\n",
    "print(arr1[1], arr1[:3])"
   ]
  },
  {
   "cell_type": "code",
   "execution_count": 41,
   "metadata": {},
   "outputs": [
    {
     "name": "stdout",
     "output_type": "stream",
     "text": [
      "[[1 2 3 4]\n",
      " [4 5 6 7]]\n",
      "[4 5 6 7]\n",
      "6\n"
     ]
    }
   ],
   "source": [
    "# 不写切片数值[:]将会引用数组的所有值：\n",
    "print(arr13[:])\n",
    "# 如果想要一份数组切片的拷贝而不是视图的话的话，则必须显示的复制数组， 例如arr13[:].copy()\n",
    "# 对于多维数组， 例如二维数组， 每一个索引值对应的元素不再是一个值， 而是一个一维数组\n",
    "print(arr13[1])\n",
    "# 如果要索引一个元素则在索引出来的一维数组的基础上按照一维数组的索引方法就可以完成索引\n",
    "print(arr13[1][2])"
   ]
  },
  {
   "cell_type": "code",
   "execution_count": 42,
   "metadata": {},
   "outputs": [
    {
     "name": "stdout",
     "output_type": "stream",
     "text": [
      "6\n",
      "[[2 3 4]\n",
      " [5 6 7]]\n"
     ]
    }
   ],
   "source": [
    "# 对于上面的例子，也可以把二维数组的行看作0轴， 列看作1轴\n",
    "# 然后就可以使用逗号将行列索引分开,上面的例子可以写作：\n",
    "print(arr13[1,2])\n",
    "# 索引数据集\n",
    "print(arr13[:2, 1:])"
   ]
  },
  {
   "cell_type": "code",
   "execution_count": 44,
   "metadata": {},
   "outputs": [
    {
     "data": {
      "text/plain": [
       "array([0.7895895])"
      ]
     },
     "execution_count": 44,
     "metadata": {},
     "output_type": "execute_result"
    }
   ],
   "source": [
    "# 布尔索引\n",
    "# 在索引数组时可以传入布尔型数组，布尔索引数组长度必须和数组轴索引长度一致\n",
    "bool_arr = np.arange(5) > 3\n",
    "arr15 = np.random.randn(5, 4)\n",
    "arr15[bool_arr, 1]"
   ]
  },
  {
   "cell_type": "code",
   "execution_count": 47,
   "metadata": {},
   "outputs": [
    {
     "data": {
      "text/plain": [
       "array([[ 0.04589525,  1.6603937 ,  0.61484664,  1.17613019],\n",
       "       [-1.13439428,  0.24312946, -1.03262549,  0.56701778],\n",
       "       [-0.75969684,  0.7895895 , -1.79792498, -0.47457082]])"
      ]
     },
     "execution_count": 47,
     "metadata": {},
     "output_type": "execute_result"
    }
   ],
   "source": [
    "bool_arr1 = np.arange(5) > 1\n",
    "arr15[bool_arr1]"
   ]
  },
  {
   "cell_type": "code",
   "execution_count": 50,
   "metadata": {},
   "outputs": [
    {
     "data": {
      "text/plain": [
       "array([[-1.26031643,  1.05252461, -1.46200705, -1.0799147 ],\n",
       "       [-0.52942307, -0.4520703 , -1.43713627, -0.06849401],\n",
       "       [-0.75969684,  0.7895895 , -1.79792498, -0.47457082]])"
      ]
     },
     "execution_count": 50,
     "metadata": {},
     "output_type": "execute_result"
    }
   ],
   "source": [
    "# 如果要选择bool_arr中大于3或小于2的行， 则需要对布尔数组进行逻辑运算\n",
    "bool_arr2 = (np.arange(5) > 3) | (np.arange(5) < 2)  # and的符号是&（python的and和or符号并不管用）\n",
    "arr15[bool_arr2]"
   ]
  },
  {
   "cell_type": "code",
   "execution_count": 51,
   "metadata": {},
   "outputs": [
    {
     "data": {
      "text/plain": [
       "array([5, 6, 7])"
      ]
     },
     "execution_count": 51,
     "metadata": {},
     "output_type": "execute_result"
    }
   ],
   "source": [
    "# 也可以使用布尔索引对数组中符合某一条件的元素进行索引\n",
    "# 将原数组转换成布尔数组就可以了\n",
    "arr13[arr13 > 4]"
   ]
  },
  {
   "cell_type": "code",
   "execution_count": 53,
   "metadata": {},
   "outputs": [
    {
     "data": {
      "text/plain": [
       "array([[ 1.09008397, -0.82377221,  0.55722343, -0.57005443],\n",
       "       [ 0.93418829, -0.15033217,  0.66272027,  0.75219089],\n",
       "       [ 0.42237579, -0.98225365, -0.6093055 ,  0.67896919]])"
      ]
     },
     "execution_count": 53,
     "metadata": {},
     "output_type": "execute_result"
    }
   ],
   "source": [
    "# 神奇索引\n",
    "# 前面索引的多为数组行的顺序是按照原数组的顺序排列的\n",
    "# 如果想要重新排列数组某个轴的顺序，可以使用神奇索引\n",
    "arr16 = np.random.randn(5,4)\n",
    "# 索引arr16数组中的第1，3，5行并且顺序是3， 1， 5\n",
    "# 如果使用负的索引，将从尾部进行索引\n",
    "arr16[[2, 0, 4]]"
   ]
  },
  {
   "cell_type": "code",
   "execution_count": 54,
   "metadata": {},
   "outputs": [
    {
     "data": {
      "text/plain": [
       "array([[ 1.09008397, -0.82377221,  0.55722343, -0.57005443],\n",
       "       [ 0.06205233, -0.45251597,  0.28630007,  0.41260338],\n",
       "       [-0.10573708,  0.95928264,  0.18703765,  0.19377178]])"
      ]
     },
     "execution_count": 54,
     "metadata": {},
     "output_type": "execute_result"
    }
   ],
   "source": [
    "arr16[[-3, -2, -4]]"
   ]
  },
  {
   "cell_type": "code",
   "execution_count": 56,
   "metadata": {},
   "outputs": [
    {
     "data": {
      "text/plain": [
       "array([[ 0.93418829,  0.75219089, -0.15033217],\n",
       "       [-0.10573708,  0.19377178,  0.95928264],\n",
       "       [ 1.09008397, -0.57005443, -0.82377221],\n",
       "       [ 0.06205233,  0.41260338, -0.45251597],\n",
       "       [ 0.42237579,  0.67896919, -0.98225365]])"
      ]
     },
     "execution_count": 56,
     "metadata": {},
     "output_type": "execute_result"
    }
   ],
   "source": [
    "# 同时， 神奇索引还可以配合切片索引使用\n",
    "arr16[:, [0, 3, 1]]"
   ]
  },
  {
   "cell_type": "code",
   "execution_count": 58,
   "metadata": {},
   "outputs": [
    {
     "name": "stdout",
     "output_type": "stream",
     "text": [
      "(5, 4) (4, 5)\n"
     ]
    }
   ],
   "source": [
    "# 数组的转置和换轴\n",
    "# 在代数中， 矩阵的转置是非常常用的\n",
    "# 在numpy中， 转置可以返回底层数据的视图而不需要复制任何内容， 数组拥有transpose方法和特殊的T属性\n",
    "arr16_t = arr16.transpose()\n",
    "print(arr16.shape, arr16_t.shape)"
   ]
  },
  {
   "cell_type": "code",
   "execution_count": 61,
   "metadata": {},
   "outputs": [
    {
     "name": "stdout",
     "output_type": "stream",
     "text": [
      "[[ True  True  True  True  True]\n",
      " [ True  True  True  True  True]\n",
      " [ True  True  True  True  True]\n",
      " [ True  True  True  True  True]]\n"
     ]
    }
   ],
   "source": [
    "print(arr16.T == arr16_t)"
   ]
  },
  {
   "cell_type": "code",
   "execution_count": 62,
   "metadata": {},
   "outputs": [
    {
     "name": "stdout",
     "output_type": "stream",
     "text": [
      "[[[ 0  1  2]\n",
      "  [ 3  4  5]\n",
      "  [ 6  7  8]]\n",
      "\n",
      " [[ 9 10 11]\n",
      "  [12 13 14]\n",
      "  [15 16 17]]\n",
      "\n",
      " [[18 19 20]\n",
      "  [21 22 23]\n",
      "  [24 25 26]]] [[[ 0  1  2]\n",
      "  [ 9 10 11]\n",
      "  [18 19 20]]\n",
      "\n",
      " [[ 3  4  5]\n",
      "  [12 13 14]\n",
      "  [21 22 23]]\n",
      "\n",
      " [[ 6  7  8]\n",
      "  [15 16 17]\n",
      "  [24 25 26]]]\n"
     ]
    }
   ],
   "source": [
    "# 上面是对于普通的二维数组的转置， 比较普遍\n",
    "# 而对于高纬度的数组， tanspose方法可以接受包含轴编号的元组， 用于置换轴\n",
    "arr3d = np.arange(27).reshape((3, 3, 3))\n",
    "arr3d_t = arr3d.transpose((1, 0, 2))  # 是原先的第一个轴变成第一个轴， 第二个轴变成第一个轴\n",
    "print(arr3d, arr3d_t)"
   ]
  },
  {
   "cell_type": "code",
   "execution_count": 64,
   "metadata": {},
   "outputs": [
    {
     "data": {
      "text/plain": [
       "array([[[ 0,  1,  2],\n",
       "        [ 9, 10, 11],\n",
       "        [18, 19, 20]],\n",
       "\n",
       "       [[ 3,  4,  5],\n",
       "        [12, 13, 14],\n",
       "        [21, 22, 23]],\n",
       "\n",
       "       [[ 6,  7,  8],\n",
       "        [15, 16, 17],\n",
       "        [24, 25, 26]]])"
      ]
     },
     "execution_count": 64,
     "metadata": {},
     "output_type": "execute_result"
    }
   ],
   "source": [
    "# ndarray还有一个swapaxes方法， 该方法接受一对轴编号作为参数， 并对周进行调整用于重组数据\n",
    "# 上面的示例用swapaxes表示为\n",
    "arr3d.swapaxes(1, 0)\n",
    "# swapaxes返回的是数组的视图，没有对数组数据进行复制"
   ]
  },
  {
   "cell_type": "code",
   "execution_count": null,
   "metadata": {},
   "outputs": [],
   "source": []
  }
 ],
 "metadata": {
  "kernelspec": {
   "display_name": "Python 3",
   "language": "python",
   "name": "python3"
  },
  "language_info": {
   "codemirror_mode": {
    "name": "ipython",
    "version": 3
   },
   "file_extension": ".py",
   "mimetype": "text/x-python",
   "name": "python",
   "nbconvert_exporter": "python",
   "pygments_lexer": "ipython3",
   "version": "3.7.4"
  }
 },
 "nbformat": 4,
 "nbformat_minor": 4
}
